{
 "cells": [
  {
   "cell_type": "markdown",
   "metadata": {},
   "source": [
    "# Overview"
   ]
  },
  {
   "cell_type": "markdown",
   "metadata": {},
   "source": [
    "The goal of this project is to train a machine learning classification algorithm to recognize and correctly classify handwritten digits. The basic outline will be as follows:\n",
    "<ol>\n",
    "<li>Import the data</li>\n",
    "<li>Figure out a way to convert the image data into vectors</li>\n",
    "<li>Split the converted data into a training set, a CV set, and a test set.</li>\n",
    "<li>Train the algorithm on the test set.</li>\n",
    "<li>Check the accuracy on the CV set.</li>\n",
    "<li>Test the algorithm on the test set.</li>\n",
    "</ol>"
   ]
  },
  {
   "cell_type": "markdown",
   "metadata": {},
   "source": [
    "# 1. Importing the Data"
   ]
  },
  {
   "cell_type": "code",
   "execution_count": null,
   "metadata": {
    "collapsed": true
   },
   "outputs": [],
   "source": []
  }
 ],
 "metadata": {
  "kernelspec": {
   "display_name": "Python 3",
   "language": "python",
   "name": "python3"
  },
  "language_info": {
   "codemirror_mode": {
    "name": "ipython",
    "version": 3
   },
   "file_extension": ".py",
   "mimetype": "text/x-python",
   "name": "python",
   "nbconvert_exporter": "python",
   "pygments_lexer": "ipython3",
   "version": "3.5.2"
  }
 },
 "nbformat": 4,
 "nbformat_minor": 2
}
